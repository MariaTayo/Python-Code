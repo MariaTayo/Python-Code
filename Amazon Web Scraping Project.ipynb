{
 "cells": [
  {
   "cell_type": "markdown",
   "id": "83c016aa",
   "metadata": {},
   "source": [
    "Amazon Web Scraping Project"
   ]
  },
  {
   "cell_type": "code",
   "execution_count": 2,
   "id": "b0f2495f",
   "metadata": {},
   "outputs": [],
   "source": [
    "# Import libraries \n",
    "\n",
    "from bs4 import BeautifulSoup\n",
    "import requests\n",
    "import time\n",
    "import datetime\n",
    "\n",
    "import smtplib"
   ]
  },
  {
   "cell_type": "code",
   "execution_count": 12,
   "id": "093a104f",
   "metadata": {},
   "outputs": [
    {
     "name": "stdout",
     "output_type": "stream",
     "text": [
      "\n",
      "                Data Analyst Shirt - Data Scientist T-Shirt Gift\n",
      "               \n",
      "£19.49\n"
     ]
    }
   ],
   "source": [
    "# Connect to Website\n",
    "\n",
    "URL = 'https://www.amazon.co.uk/Data-Analyst-Shirt-Scientist-T-Shirt/dp/B07PVWK97Y/ref=d_a9vs-vusim-pr-dp-v3m1-desktop-t2_sccl_1_3/260-9629642-0087655?pd_rd_w=K3xFP&content-id=amzn1.sym.693d9fc4-9714-4c6d-b08b-8266a8995426&pf_rd_p=693d9fc4-9714-4c6d-b08b-8266a8995426&pf_rd_r=9C5RH0694E4J7BWT17NP&pd_rd_wg=xNpPK&pd_rd_r=467a24e4-0a38-40a1-82a4-5b97487797b9&pd_rd_i=B07PVWK97Y&psc=1'\n",
    "headers = {\"User-Agent\": \"Mozilla/5.0 (Windows NT 10.0; Win64; x64) AppleWebKit/537.36 (KHTML, like Gecko) Chrome/110.0.0.0 Safari/537.36\", \"Accept-Encoding\":\"gzip, deflate\", \"Accept\":\"text/html,application/xhtml+xml,application/xml;q=0.9,*/*;q=0.8\",\"DNT\":\"1\",\"Connection\":\"close\",\"Upgrade-Insecure-Requests\":\"1\"}\n",
    "page = requests.get(URL, headers=headers)\n",
    "\n",
    "soup1 = BeautifulSoup(page.content, \"html.parser\")\n",
    "\n",
    "soup2 = BeautifulSoup(soup1.prettify(), \"html.parser\")\n",
    "\n",
    "title = soup2.find(id='productTitle').get_text()\n",
    "\n",
    "price = soup2.find('span', {'class':\"a-offscreen\"}).text.strip()\n",
    "\n",
    "print(title) \n",
    "print(price)\n",
    "\n",
    "\n",
    "\n",
    "\n",
    "\n",
    "\n",
    "\n"
   ]
  },
  {
   "cell_type": "code",
   "execution_count": 13,
   "id": "197a3945",
   "metadata": {},
   "outputs": [
    {
     "name": "stdout",
     "output_type": "stream",
     "text": [
      "Data Analyst Shirt - Data Scientist T-Shirt Gift\n",
      "£19.49\n"
     ]
    }
   ],
   "source": [
    "# Cleaning up data \n",
    "\n",
    "title = title.strip()\n",
    "price = price.strip()\n",
    "\n",
    "print(title)\n",
    "print(price)\n"
   ]
  },
  {
   "cell_type": "code",
   "execution_count": 15,
   "id": "0b31dcd8",
   "metadata": {},
   "outputs": [
    {
     "name": "stdout",
     "output_type": "stream",
     "text": [
      "2023-03-30\n"
     ]
    }
   ],
   "source": [
    "# Creating a timestamp for output to track when data was collected\n",
    "\n",
    "import datetime\n",
    "\n",
    "today = datetime.date.today()\n",
    "\n",
    "print(today)"
   ]
  },
  {
   "cell_type": "code",
   "execution_count": 19,
   "id": "98317e0a",
   "metadata": {},
   "outputs": [],
   "source": [
    "# Creating CSV and writing headers and date into the file\n",
    "\n",
    "import csv\n",
    "\n",
    "header = ['Title', 'Price' 'Date']\n",
    "data = [title, price, today]\n",
    "\n",
    "with open('AmazonWebScraperDataset.csv', 'w', encoding='UTF8') as f:\n",
    "    writer = csv.writer(f)\n",
    "    writer.writerow(header)\n",
    "    writer.writerow(data)"
   ]
  },
  {
   "cell_type": "code",
   "execution_count": 30,
   "id": "d2f13173",
   "metadata": {},
   "outputs": [
    {
     "name": "stdout",
     "output_type": "stream",
     "text": [
      "                                              Title   Price        Date\n",
      "0  Data Analyst Shirt - Data Scientist T-Shirt Gift  £19.49  30/03/2023\n",
      "1  Data Analyst Shirt - Data Scientist T-Shirt Gift  £19.49  30/03/2023\n",
      "2  Data Analyst Shirt - Data Scientist T-Shirt Gift  £19.49  30/03/2023\n",
      "3  Data Analyst Shirt - Data Scientist T-Shirt Gift  £19.49  30/03/2023\n",
      "4  Data Analyst Shirt - Data Scientist T-Shirt Gift  £19.49  30/03/2023\n",
      "5  Data Analyst Shirt - Data Scientist T-Shirt Gift  £19.49  30/03/2023\n",
      "6  Data Analyst Shirt - Data Scientist T-Shirt Gift  £19.49  30/03/2023\n"
     ]
    }
   ],
   "source": [
    "import pandas as pd\n",
    "\n",
    "df = pd.read_csv(r'C:\\Users\\maria\\AmazonWebScraperDataset.csv')\n",
    "\n",
    "print(df)"
   ]
  },
  {
   "cell_type": "code",
   "execution_count": 26,
   "id": "5c68c9fd",
   "metadata": {},
   "outputs": [],
   "source": [
    "# Appending data to the CSV\n",
    "\n",
    "with open('AmazonWebScraperDataset.csv', 'a+', newline='', encoding='UTF8') as f:\n",
    "    writer = csv.writer(f)\n",
    "    writer.writerow(data)"
   ]
  },
  {
   "cell_type": "code",
   "execution_count": 31,
   "id": "802ac60b",
   "metadata": {},
   "outputs": [],
   "source": [
    "\n",
    "def check_price():\n",
    "    URL = 'https://www.amazon.co.uk/Data-Analyst-Shirt-Scientist-T-Shirt/dp/B07PVWK97Y/ref=d_a9vs-vusim-pr-dp-v3m1-desktop-t2_sccl_1_3/260-9629642-0087655?pd_rd_w=K3xFP&content-id=amzn1.sym.693d9fc4-9714-4c6d-b08b-8266a8995426&pf_rd_p=693d9fc4-9714-4c6d-b08b-8266a8995426&pf_rd_r=9C5RH0694E4J7BWT17NP&pd_rd_wg=xNpPK&pd_rd_r=467a24e4-0a38-40a1-82a4-5b97487797b9&pd_rd_i=B07PVWK97Y&psc=1'\n",
    "    \n",
    "    headers = {\"User-Agent\": \"Mozilla/5.0 (Windows NT 10.0; Win64; x64) AppleWebKit/537.36 (KHTML, like Gecko) Chrome/110.0.0.0 Safari/537.36\", \"Accept-Encoding\":\"gzip, deflate\", \"Accept\":\"text/html,application/xhtml+xml,application/xml;q=0.9,*/*;q=0.8\",\"DNT\":\"1\",\"Connection\":\"close\",\"Upgrade-Insecure-Requests\":\"1\"}\n",
    "    \n",
    "    page = requests.get(URL, headers=headers)\n",
    "\n",
    "    soup1 = BeautifulSoup(page.content, \"html.parser\")\n",
    "\n",
    "    soup2 = BeautifulSoup(soup1.prettify(), \"html.parser\")\n",
    "\n",
    "    title = soup2.find(id='productTitle').get_text()\n",
    "\n",
    "    print(title)\n",
    "\n",
    "\n",
    "    title = title.strip()\n",
    "    import datetime\n",
    "\n",
    "    today = datetime.date.today()\n",
    "\n",
    "    print(today)\n",
    "    \n",
    "    import csv\n",
    "    \n",
    "    header = ['Title', 'Date']\n",
    "    data = [title, today]\n",
    "    \n",
    "    with open('AmazonWebScraperDataset.csv', 'a+', newline='', encoding='UTF8') as f:\n",
    "        writer = csv.writer(f)\n",
    "        writer.writerow(data)\n",
    "    \n",
    "    "
   ]
  },
  {
   "cell_type": "code",
   "execution_count": null,
   "id": "ffeac9f8",
   "metadata": {},
   "outputs": [],
   "source": [
    "while(True):\n",
    "    check_price()\n",
    "    time.sleep(86400)"
   ]
  },
  {
   "cell_type": "code",
   "execution_count": 33,
   "id": "cd5cf3c1",
   "metadata": {},
   "outputs": [
    {
     "name": "stdout",
     "output_type": "stream",
     "text": [
      "                                              Title   Price        Date\n",
      "0  Data Analyst Shirt - Data Scientist T-Shirt Gift  £19.49  30/03/2023\n",
      "1  Data Analyst Shirt - Data Scientist T-Shirt Gift  £19.49  30/03/2023\n",
      "2  Data Analyst Shirt - Data Scientist T-Shirt Gift  £19.49  30/03/2023\n",
      "3  Data Analyst Shirt - Data Scientist T-Shirt Gift  £19.49  30/03/2023\n",
      "4  Data Analyst Shirt - Data Scientist T-Shirt Gift  £19.49  30/03/2023\n",
      "5  Data Analyst Shirt - Data Scientist T-Shirt Gift  £19.49  30/03/2023\n",
      "6  Data Analyst Shirt - Data Scientist T-Shirt Gift  £19.49  30/03/2023\n"
     ]
    }
   ],
   "source": [
    "print(df)"
   ]
  }
 ],
 "metadata": {
  "kernelspec": {
   "display_name": "Python 3 (ipykernel)",
   "language": "python",
   "name": "python3"
  },
  "language_info": {
   "codemirror_mode": {
    "name": "ipython",
    "version": 3
   },
   "file_extension": ".py",
   "mimetype": "text/x-python",
   "name": "python",
   "nbconvert_exporter": "python",
   "pygments_lexer": "ipython3",
   "version": "3.9.13"
  }
 },
 "nbformat": 4,
 "nbformat_minor": 5
}
